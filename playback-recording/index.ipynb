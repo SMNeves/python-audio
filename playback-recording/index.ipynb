{
 "cells": [
  {
   "cell_type": "markdown",
   "metadata": {},
   "source": [
    "# Audio Playback and Recording\n",
    "\n",
    "[back to main page](../index.ipynb)\n",
    "\n",
    "There are many libraries for audio playback and/or recording available for Python.\n",
    "They greatly differ in features, API, requirements, quality, ...\n",
    "\n",
    "This is just a random selection.\n",
    "\n",
    "See also https://wiki.python.org/moin/Audio and https://wiki.python.org/moin/PythonInMusic."
   ]
  },
  {
   "cell_type": "markdown",
   "metadata": {},
   "source": [
    "## PortAudio Wrappers"
   ]
  },
  {
   "cell_type": "markdown",
   "metadata": {},
   "source": [
    "### python-sounddevice\n",
    "\n",
    "http://python-sounddevice.rtfd.org/\n",
    "\n",
    "uses PortAudio via CFFI"
   ]
  },
  {
   "cell_type": "markdown",
   "metadata": {},
   "source": [
    "### PySoundCard\n",
    "\n",
    "http://github.com/bastibe/PySoundCard/\n",
    "\n",
    "uses PortAudio via CFFI"
   ]
  },
  {
   "cell_type": "markdown",
   "metadata": {},
   "source": [
    "### PyAudio\n",
    "\n",
    "uses PortAudio via a C extension module\n",
    "\n",
    "Debian packages python-pyaudio and python3-pyaudio\n",
    "\n",
    "http://people.csail.mit.edu/hubert/pyaudio/"
   ]
  },
  {
   "cell_type": "markdown",
   "metadata": {},
   "source": [
    "###  pyportaudio\n",
    "\n",
    "low-level wrapper for PortAudio functions via CFFI\n",
    "\n",
    "https://github.com/Seteeri/python-cffi-portaudio"
   ]
  },
  {
   "cell_type": "markdown",
   "metadata": {},
   "source": [
    "### music-player-core\n",
    "\n",
    "uses PortAudio and FFmpeg (including libswresample) via a C++ extension module\n",
    "\n",
    "doesn't seem to work on Python 3\n",
    "\n",
    "https://github.com/albertz/music-player-core"
   ]
  },
  {
   "cell_type": "markdown",
   "metadata": {},
   "source": [
    "### medussa\n",
    "\n",
    "uses PortAudio and libsndfile via ctypes\n",
    "\n",
    "uses NumPy\n",
    "\n",
    "Last activity 2013\n",
    "\n",
    "http://www.medussa.us  \n",
    "https://code.google.com/p/medussa/\n",
    "\n",
    "Don't confuse it with https://pypi.python.org/pypi/medusa/ or https://github.com/rahul080327/medusa, which are totally different things."
   ]
  },
  {
   "cell_type": "markdown",
   "metadata": {},
   "source": [
    "### python2-portaudio\n",
    "\n",
    "https://github.com/jangler/python2-portaudio"
   ]
  },
  {
   "cell_type": "markdown",
   "metadata": {},
   "source": [
    "### py-portaudio\n",
    "\n",
    "not available anymore: https://github.com/ranweiler/py-portaudio"
   ]
  },
  {
   "cell_type": "markdown",
   "metadata": {},
   "source": [
    "### pyPortAudio\n",
    "\n",
    "very old ... http://freenet.mcnabhosting.com/python/pyPortAudio/"
   ]
  },
  {
   "cell_type": "markdown",
   "metadata": {},
   "source": [
    "## SDL Wrappers"
   ]
  },
  {
   "cell_type": "markdown",
   "metadata": {},
   "source": [
    "### pygame.mixer\n",
    "\n",
    "uses [SDL](http://www.libsdl.org/)\n",
    "\n",
    "http://pygame.org/docs/ref/mixer.html\n",
    "\n",
    "Debian package: python-pygame"
   ]
  },
  {
   "cell_type": "markdown",
   "metadata": {},
   "source": [
    "### Audiostream\n",
    "\n",
    "https://github.com/kivy/audiostream\n",
    "\n",
    "https://audiostream.readthedocs.io/"
   ]
  },
  {
   "cell_type": "markdown",
   "metadata": {},
   "source": [
    "## OpenAL Wrappers"
   ]
  },
  {
   "cell_type": "markdown",
   "metadata": {},
   "source": [
    "### pyglet\n",
    "\n",
    "http://pyglet.org\n",
    "\n",
    "DirectSound on Windows, ALSA on Linux, OpenAL on Windows/Linux/MacOSX: \n",
    "\n",
    "http://www.pyglet.org/doc/programming_guide/audio_drivers.html\n",
    "\n",
    "Debian package: python-pyglet\n",
    "\n",
    "Many codecs supported with [AVbin](http://code.google.com/p/avbin/).\n",
    "\n",
    "Debian package: libavbin0 and/or libavbin-dev?"
   ]
  },
  {
   "cell_type": "markdown",
   "metadata": {},
   "source": [
    "### pySFML\n",
    "\n",
    "http://python-sfml.org/examples.html\n",
    "\n",
    "Debian packages python-sfml and python3-sfml.\n",
    "\n",
    "Uses [OpenAL Soft][] for playback/recording and\n",
    "[libsndfile][] for audio file handling.\n",
    "\n",
    "[OpenAL Soft]: http://kcat.strangesoft.net/openal.html\n",
    "[libsndfile]: http://www.mega-nerd.com/libsndfile/"
   ]
  },
  {
   "cell_type": "markdown",
   "metadata": {},
   "source": [
    "### PyAL\n",
    "\n",
    "http://pythonhosted.org/PyAL/audio.html#module-openal.audio"
   ]
  },
  {
   "cell_type": "markdown",
   "metadata": {},
   "source": [
    "## JACK Wrappers"
   ]
  },
  {
   "cell_type": "markdown",
   "metadata": {},
   "source": [
    "### jackclient-python\n",
    "\n",
    "http://github.com/spatialaudio/jackclient-python/\n",
    "\n",
    "http://jackclient-python.rtfd.org/"
   ]
  },
  {
   "cell_type": "markdown",
   "metadata": {},
   "source": [
    "### PyJack\n",
    "\n",
    "http://sourceforge.net/projects/py-jack/"
   ]
  },
  {
   "cell_type": "markdown",
   "metadata": {},
   "source": [
    "## GStreamer\n",
    "\n",
    "https://lazka.github.io/pgi-docs/#Gst-1.0\n",
    "\n",
    "https://lazka.github.io/pgi-docs/#GstAudio-1.0\n",
    "\n",
    "http://gstreamer.freedesktop.org/modules/gst-python.html\n",
    "\n",
    "http://cgit.freedesktop.org/gstreamer/gst-python"
   ]
  },
  {
   "cell_type": "markdown",
   "metadata": {},
   "source": [
    "## Others"
   ]
  },
  {
   "cell_type": "markdown",
   "metadata": {},
   "source": [
    "### pyalsaaudio\n",
    "\n",
    "http://larsimmisch.github.io/pyalsaaudio/"
   ]
  },
  {
   "cell_type": "markdown",
   "metadata": {},
   "source": [
    "### Snack\n",
    "\n",
    "Depends on Tkinter\n",
    "\n",
    "http://www.speech.kth.se/snack/  \n",
    "http://www.speech.kth.se/snack/man/snack2.2/python-man.html\n",
    "\n",
    "Debian package: libsnack2-alsa\n",
    "\n",
    "no new releases since December 2005!"
   ]
  },
  {
   "cell_type": "markdown",
   "metadata": {},
   "source": [
    "### PyAudiere!\n",
    "\n",
    "http://pyaudiere.org/\n",
    "\n",
    "uses audiere: http://audiere.sourceforge.net/"
   ]
  },
  {
   "cell_type": "markdown",
   "metadata": {},
   "source": [
    "### audioop\n",
    "\n",
    "standard Python lib to manipulate raw audio data\n",
    "\n",
    "http://docs.python.org/library/audioop.html"
   ]
  },
  {
   "cell_type": "markdown",
   "metadata": {},
   "source": [
    "### PySndObj\n",
    "\n",
    "platform independent, including JACK!\n",
    "\n",
    "http://sndobj.sourceforge.net/"
   ]
  },
  {
   "cell_type": "markdown",
   "metadata": {},
   "source": [
    "### PyMedia\n",
    "\n",
    "extension module with platform-specific back-ends\n",
    "\n",
    "last activity around 2008?\n",
    "\n",
    "http://pymedia.org/"
   ]
  },
  {
   "cell_type": "markdown",
   "metadata": {},
   "source": [
    "### PyAO\n",
    "\n",
    "https://github.com/tynn/PyAO\n",
    "\n",
    "uses libao: https://xiph.org/ao/, https://gitlab.xiph.org/xiph/libao"
   ]
  },
  {
   "cell_type": "markdown",
   "metadata": {},
   "source": [
    "### Simpleaudio\n",
    "\n",
    "http://simpleaudio.readthedocs.org/, https://github.com/hamiltron/py-simple-audio"
   ]
  },
  {
   "cell_type": "markdown",
   "metadata": {},
   "source": [
    "### pyrilla\n",
    "\n",
    "Python bindings to [gorilla-audio](https://code.google.com/p/gorilla-audio/) library\n",
    "\n",
    "https://github.com/swistakm/pyrilla"
   ]
  },
  {
   "cell_type": "markdown",
   "metadata": {},
   "source": [
    "### playsound\n",
    "\n",
    "Pure Python, cross platform, single function module with no dependencies for playing sounds.\n",
    "\n",
    "uses windll.winmm, AppKit.NSSound, ossaudiodev\n",
    "\n",
    "https://github.com/TaylorSMarks/playsound"
   ]
  },
  {
   "cell_type": "markdown",
   "metadata": {},
   "source": [
    "### RtAudio\n",
    "\n",
    "https://www.music.mcgill.ca/~gary/rtaudio/\n",
    "\n",
    "(outdated?) Python bindings: https://github.com/thestk/rtaudio/tree/master/contrib/python/pyrtaudio"
   ]
  },
  {
   "cell_type": "markdown",
   "metadata": {},
   "source": [
    "### SoundCard\n",
    "\n",
    "https://github.com/bastibe/SoundCard"
   ]
  },
  {
   "cell_type": "markdown",
   "metadata": {},
   "source": [
    "### libsoundio\n",
    "\n",
    "https://github.com/andrewrk/libsoundio  \n",
    "http://libsound.io/\n",
    "\n",
    "Python wrappers?"
   ]
  },
  {
   "cell_type": "markdown",
   "metadata": {},
   "source": [
    "### pyminiaudio\n",
    "\n",
    "https://github.com/irmen/pyminiaudio  \n",
    "https://miniaud.io/  \n",
    "https://github.com/dr-soft/miniaudio"
   ]
  },
  {
   "cell_type": "markdown",
   "metadata": {},
   "source": [
    "<p xmlns:dct=\"http://purl.org/dc/terms/\">\n",
    "  <a rel=\"license\"\n",
    "     href=\"http://creativecommons.org/publicdomain/zero/1.0/\">\n",
    "    <img src=\"http://i.creativecommons.org/p/zero/1.0/88x31.png\" style=\"border-style: none;\" alt=\"CC0\" />\n",
    "  </a>\n",
    "  <br />\n",
    "  To the extent possible under law,\n",
    "  <span rel=\"dct:publisher\" resource=\"[_:publisher]\">the person who associated CC0</span>\n",
    "  with this work has waived all copyright and related or neighboring\n",
    "  rights to this work.\n",
    "</p>"
   ]
  }
 ],
 "metadata": {
  "kernelspec": {
   "display_name": "Python 3",
   "language": "python",
   "name": "python3"
  },
  "language_info": {
   "codemirror_mode": {
    "name": "ipython",
    "version": 3
   },
   "file_extension": ".py",
   "mimetype": "text/x-python",
   "name": "python",
   "nbconvert_exporter": "python",
   "pygments_lexer": "ipython3",
   "version": "3.8.5"
  }
 },
 "nbformat": 4,
 "nbformat_minor": 4
}
