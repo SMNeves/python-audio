{
 "cells": [
  {
   "cell_type": "markdown",
   "metadata": {},
   "source": [
    "# Using the \"notebook\" backend for matplotlib\n",
    "\n",
    "[back to overview page](index.ipynb)\n",
    "\n",
    "As shown in [Getting Started With `matplotlib`](matplotlib.ipynb), there are two \"magic\" commands to prepare a Jupyter/IPython notebook for plotting.\n",
    "The first one is:\n",
    "\n",
    "    %matplotlib\n",
    "    \n",
    "This enables interactive plotting mode and ensures smooth handling of the plotting window.\n",
    "Whenever you run a plotting command, the plotting window is opened (or updated).\n",
    "The plotting window allows interactive zooming.\n",
    "\n",
    "The other command is:\n",
    "\n",
    "    %matplotlib inline\n",
    "\n",
    "This doesn't open a plotting window, but instead shows the plot directly within the notebook.\n",
    "This has the advantage that the plot is saved together with the notebook file and therefore is visible even if the IPython kernel is not running.\n",
    "This is especially useful for showing plots on [nbviewer](http://nbviewer.jupyter.org/).\n",
    "This is actually the default behavior of Jupyter notebooks,\n",
    "so you don't even have to explicitly write `%matplotlib inline`.\n",
    "\n",
    "However, it has the disadvantage that the plot is not interactive, i.e. zooming is not possible.\n",
    "\n",
    "But there is a third \"magic\" command, which tries to get the best of both worlds:"
   ]
  },
  {
   "cell_type": "code",
   "execution_count": null,
   "metadata": {},
   "outputs": [],
   "source": [
    "%matplotlib notebook"
   ]
  },
  {
   "cell_type": "markdown",
   "metadata": {},
   "source": [
    "This shows the plot within the notebook, but as long as the IPython kernel is running, zooming is still possible.\n",
    "Whenever you interact with the plot, the notebook forwards the interaction to the IPython kernel, which sends updated plotting information back to the notebook.\n",
    "\n",
    "Let's try it:"
   ]
  },
  {
   "cell_type": "code",
   "execution_count": null,
   "metadata": {},
   "outputs": [],
   "source": [
    "import matplotlib.pyplot as plt"
   ]
  },
  {
   "cell_type": "code",
   "execution_count": null,
   "metadata": {},
   "outputs": [],
   "source": [
    "data = 4, 8, 15, 16, 23, 42"
   ]
  },
  {
   "cell_type": "code",
   "execution_count": null,
   "metadata": {},
   "outputs": [],
   "source": [
    "plt.plot(data);"
   ]
  },
  {
   "cell_type": "markdown",
   "metadata": {},
   "source": [
    "When you look at this in an interactive IPython session, you'll see some buttons on the bottom of the plot, which allow you to zoom and pan the plot.\n",
    "\n",
    "However, if you look at this as a static HTML page, e.g. on [nbviewer](http://nbviewer.ipython.org/urls/raw.github.com/mgeier/python-audio/master/plotting/matplotlib-notebook-backend.ipynb), you will just see a static image."
   ]
  },
  {
   "cell_type": "markdown",
   "metadata": {},
   "source": [
    "## Caveat\n",
    "\n",
    "This is a really nice feature, but since during interactions a lot of data has to be sent back and forth between notebook and IPython kernel, the interaction experience might be a bit choppy, especially if large amounts of data are plotted.\n",
    "\n",
    "I still prefer the separate plotting window for interactive exploration and switching to \"inline\" mode for publishing plots together with their notebooks.\n",
    "In some cases, a separate plotting window is not possible, e.g. when using [binder](http://mybinder.org/repo/mgeier/python-audio).\n",
    "In this case, the \"notebook\" backend is probably the only way to get interactive zooming."
   ]
  },
  {
   "cell_type": "markdown",
   "metadata": {},
   "source": [
    "<p xmlns:dct=\"http://purl.org/dc/terms/\">\n",
    "  <a rel=\"license\"\n",
    "     href=\"http://creativecommons.org/publicdomain/zero/1.0/\">\n",
    "    <img src=\"http://i.creativecommons.org/p/zero/1.0/88x31.png\" style=\"border-style: none;\" alt=\"CC0\" />\n",
    "  </a>\n",
    "  <br />\n",
    "  To the extent possible under law,\n",
    "  <span rel=\"dct:publisher\" resource=\"[_:publisher]\">the person who associated CC0</span>\n",
    "  with this work has waived all copyright and related or neighboring\n",
    "  rights to this work.\n",
    "</p>"
   ]
  }
 ],
 "metadata": {
  "kernelspec": {
   "display_name": "Python 3",
   "language": "python",
   "name": "python3"
  },
  "language_info": {
   "codemirror_mode": {
    "name": "ipython",
    "version": 3
   },
   "file_extension": ".py",
   "mimetype": "text/x-python",
   "name": "python",
   "nbconvert_exporter": "python",
   "pygments_lexer": "ipython3",
   "version": "3.7.4"
  }
 },
 "nbformat": 4,
 "nbformat_minor": 4
}
