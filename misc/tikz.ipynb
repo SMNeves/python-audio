{
 "cells": [
  {
   "cell_type": "markdown",
   "metadata": {},
   "source": [
    "# Using Ti*k*Z inside IPython\n",
    "\n",
    "see https://github.com/mkrphys/ipython-tikzmagic, [official example notebook](http://nbviewer.jupyter.org/github/mkrphys/ipython-tikzmagic/blob/master/tikzmagic_test.ipynb)"
   ]
  },
  {
   "cell_type": "code",
   "execution_count": null,
   "metadata": {},
   "outputs": [],
   "source": [
    "%load_ext tikzmagic"
   ]
  },
  {
   "cell_type": "code",
   "execution_count": null,
   "metadata": {},
   "outputs": [],
   "source": [
    "%tikz \\draw (0,0) rectangle (1,1);"
   ]
  },
  {
   "cell_type": "code",
   "execution_count": null,
   "metadata": {},
   "outputs": [],
   "source": [
    "%%tikz --scale 2 --size 300,300 -f jpg\n",
    "\\draw (0,0) rectangle (1,1);\n",
    "\\filldraw (0.5,0.5) circle (.1);"
   ]
  },
  {
   "cell_type": "code",
   "execution_count": null,
   "metadata": {},
   "outputs": [],
   "source": [
    "%%tikz --scale 2 --size 300,300 -f svg --save dotted_rect.svg\n",
    "\\draw (0,0) rectangle (1,1);\n",
    "\\filldraw (0.5,0.5) circle (.1);"
   ]
  },
  {
   "cell_type": "markdown",
   "metadata": {},
   "source": [
    "The previous cell created a SVG file, which we can use in a markdown cell:\n",
    "\n",
    "![A dotted rectangle](dotted_rect.svg)"
   ]
  },
  {
   "cell_type": "code",
   "execution_count": null,
   "metadata": {},
   "outputs": [],
   "source": [
    "%%tikz -s 400,400 -sc 1.2 -f png\n",
    "\\draw [style=help lines, step=2]\t\t\t\t(-1,-1)\tgrid\t\t(+7,+7);\n",
    "\\draw [line width=0.5mm, fill=blue!40!white]\t(+2,+2)\trectangle\t(+4,+4);\n",
    " \n",
    "\\draw [blue!60!white] (  2,  2) node[anchor=north east] {$(i  ,j  )$};\n",
    "\\draw [blue!60!white] (  4,  2) node[anchor=north west] {$(i+1,j  )$};\n",
    "\\draw [blue!60!white] (  4,  4) node[anchor=south west] {$(i+1,j+1)$};\n",
    "\\draw [blue!60!white] (  2,  4) node[anchor=south east] {$(i  ,j+1)$};\n",
    "\n",
    "\\filldraw [color=gray]\t(0,0) circle (.1);\n",
    "\\filldraw [color=gray]\t(0,2) circle (.1);\n",
    "\\filldraw [color=gray]\t(0,4) circle (.1);\n",
    "\\filldraw [color=gray]\t(0,6) circle (.1);\n",
    "\\filldraw [color=gray]\t(2,0) circle (.1);\n",
    "\\filldraw [color=black]\t(2,2) circle (.1);\n",
    "\\filldraw [color=black]\t(2,4) circle (.1);\n",
    "\\filldraw [color=gray]\t(2,6) circle (.1);\n",
    "\\filldraw [color=gray]\t(4,0) circle (.1);\n",
    "\\filldraw [color=black]\t(4,2) circle (.1);\n",
    "\\filldraw [color=black]\t(4,4) circle (.1);\n",
    "\\filldraw [color=gray]\t(4,6) circle (.1);\n",
    "\\filldraw [color=gray]\t(6,0) circle (.1);\n",
    "\\filldraw [color=gray]\t(6,2) circle (.1);\n",
    "\\filldraw [color=gray]\t(6,4) circle (.1);\n",
    "\\filldraw [color=gray]\t(6,6) circle (.1);\n"
   ]
  },
  {
   "cell_type": "code",
   "execution_count": null,
   "metadata": {},
   "outputs": [],
   "source": [
    "%%tikz -l arrows,matrix -f svg\n",
    "\\matrix (m) [matrix of math nodes, row sep=3em, column sep=4em] {\n",
    "A & B \\\\\n",
    "C & D \\\\\n",
    "};\n",
    "\\path[-stealth, line width=.4mm]\n",
    "(m-1-1) edge node [left ] {$ac$} (m-2-1)\n",
    "(m-1-1) edge node [above] {$ab$} (m-1-2)\n",
    "(m-1-2) edge node [right] {$bd$} (m-2-2)\n",
    "(m-2-1) edge node [below] {$cd$} (m-2-2);"
   ]
  },
  {
   "cell_type": "markdown",
   "metadata": {},
   "source": [
    "## Links\n",
    "\n",
    "http://blog.invibe.net/posts/2015-01-20-using-tikzmagic.html\n",
    "\n",
    "https://github.com/meduz/ipython_magics\n",
    "\n",
    "other implementations?  \n",
    "https://github.com/robjstan/tikzmagic  \n",
    "https://github.com/mkrphys/ipython-tikzmagic\n",
    "\n",
    "possible alternative: asymtote  \n",
    "https://github.com/jrjohansson/ipython-asymptote\n",
    "\n",
    "https://github.com/xiaohanyu/awesome-tikz"
   ]
  },
  {
   "cell_type": "markdown",
   "metadata": {},
   "source": [
    "<p xmlns:dct=\"http://purl.org/dc/terms/\">\n",
    "  <a rel=\"license\"\n",
    "     href=\"http://creativecommons.org/publicdomain/zero/1.0/\">\n",
    "    <img src=\"http://i.creativecommons.org/p/zero/1.0/88x31.png\" style=\"border-style: none;\" alt=\"CC0\" />\n",
    "  </a>\n",
    "  <br />\n",
    "  To the extent possible under law,\n",
    "  <span rel=\"dct:publisher\" resource=\"[_:publisher]\">the person who associated CC0</span>\n",
    "  with this work has waived all copyright and related or neighboring\n",
    "  rights to this work.\n",
    "</p>"
   ]
  }
 ],
 "metadata": {
  "kernelspec": {
   "display_name": "Python 3",
   "language": "python",
   "name": "python3"
  },
  "language_info": {
   "codemirror_mode": {
    "name": "ipython",
    "version": 3
   },
   "file_extension": ".py",
   "mimetype": "text/x-python",
   "name": "python",
   "nbconvert_exporter": "python",
   "pygments_lexer": "ipython3",
   "version": "3.7.4"
  }
 },
 "nbformat": 4,
 "nbformat_minor": 4
}
