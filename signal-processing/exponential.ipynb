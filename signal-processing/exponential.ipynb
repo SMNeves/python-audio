{
 "cells": [
  {
   "cell_type": "markdown",
   "metadata": {},
   "source": [
    "# Exponential\n",
    "\n",
    "The number e, exponential function, complex exponential, ...\n",
    "\n",
    "https://ocw.mit.edu/resources/res-18-005-highlights-of-calculus-spring-2010/highlights_of_calculus/the-exponential-function/\n",
    "\n",
    "<video src=https://archive.org/download/MITRES18.005/MITRES18_005S10_ExponentialFunction_300k.mp4 controls>video element not supported</video>\n",
    "\n",
    "https://ocw.mit.edu/high-school/mathematics/highlights-of-calculus/derivatives-12-videos/power-series-eulers-great-formula/"
   ]
  },
  {
   "cell_type": "code",
   "execution_count": null,
   "metadata": {},
   "outputs": [],
   "source": []
  }
 ],
 "metadata": {
  "kernelspec": {
   "display_name": "Python 3",
   "language": "python",
   "name": "python3"
  },
  "language_info": {
   "codemirror_mode": {
    "name": "ipython",
    "version": 3
   },
   "file_extension": ".py",
   "mimetype": "text/x-python",
   "name": "python",
   "nbconvert_exporter": "python",
   "pygments_lexer": "ipython3",
   "version": "3.7.4"
  }
 },
 "nbformat": 4,
 "nbformat_minor": 4
}
