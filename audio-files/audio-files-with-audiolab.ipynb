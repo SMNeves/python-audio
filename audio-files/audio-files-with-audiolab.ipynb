{
 "cells": [
  {
   "cell_type": "markdown",
   "metadata": {},
   "source": [
    "# Reading and Writing Audio Files with (scikits.)audiolab\n",
    "\n",
    "[back to overview page](index.ipynb)\n",
    "\n",
    "http://cournape.github.io/audiolab/\n",
    "\n",
    "This has support for a lot of formats, but you may have to install it manually.\n",
    "\n",
    "Works with pcm16, pcm24, pcm32, float32 (both WAV and WAVEX).\n",
    "\n",
    "Audio data is returned as NumPy array, default `dtype` is `float64`.\n",
    "This can be changed with the `dtype=` argument, but there is currently (in version 0.11.0) a bug (see <https://github.com/cournape/audiolab/issues/3>)!\n",
    "\n",
    "Advantages:\n",
    "\n",
    "* based on [libsndfile](http://www.mega-nerd.com/libsndfile/), can read WAV, OGG, FLAC, ...\n",
    "  * see `audiolab.available_file_formats()` and `audiolab.available_encodings()`\n",
    "* can read all variants of WAV files (including 24-bit and WAVEX)\n",
    "* can read parts of audio files\n",
    "* automatic type conversion and normalization\n",
    "\n",
    "Disadvantages:\n",
    "\n",
    "* in most cases, it has to be installed manually (but it's not too hard if you have the necessary dependencies installed)\n",
    "* there is a bug if `dtype != float64`\n",
    "* needs NumPy (which normally isn't a problem)\n",
    "* **doesn't work on Python 3**\n",
    "\n",
    "Installation:\n",
    "\n",
    "    python2 -m pip install scikits.audiolab"
   ]
  },
  {
   "cell_type": "code",
   "execution_count": null,
   "metadata": {},
   "outputs": [],
   "source": [
    "import matplotlib.pyplot as plt\n",
    "import numpy as np"
   ]
  },
  {
   "cell_type": "markdown",
   "metadata": {},
   "source": [
    "## Reading"
   ]
  },
  {
   "cell_type": "code",
   "execution_count": null,
   "metadata": {},
   "outputs": [],
   "source": [
    "from scikits.audiolab import Sndfile, Format\n",
    "import contextlib\n",
    "\n",
    "with contextlib.closing(Sndfile('data/test_wav_pcm16.wav')) as f:\n",
    "    print \"sampling rate = {} Hz, length = {} samples, channels = {}\".format(f.samplerate, f.nframes, f.channels)\n",
    "\n",
    "    # default dtype: float64\n",
    "    sig = f.read_frames(f.nframes)\n",
    "\n",
    "print \"dtype: {}\".format(sig.dtype)\n",
    "\n",
    "plt.plot(sig);"
   ]
  },
  {
   "cell_type": "markdown",
   "metadata": {},
   "source": [
    "32-bit float and WAVEX are supported:"
   ]
  },
  {
   "cell_type": "code",
   "execution_count": null,
   "metadata": {},
   "outputs": [],
   "source": [
    "with contextlib.closing(Sndfile('data/test_wavex_float32.wav')) as f:\n",
    "    sig = f.read_frames(f.nframes)\n",
    "\n",
    "print \"dtype: {}\".format(sig.dtype)\n",
    "\n",
    "plt.plot(sig);"
   ]
  },
  {
   "cell_type": "markdown",
   "metadata": {},
   "source": [
    "But, if another type than `float64` is requested, things go wrong!\n",
    "\n",
    "... at least in version 0.11.0, see https://github.com/cournape/audiolab/issues/3."
   ]
  },
  {
   "cell_type": "code",
   "execution_count": null,
   "metadata": {},
   "outputs": [],
   "source": [
    "with contextlib.closing(Sndfile('data/test_wav_pcm16.wav')) as f:\n",
    "    sig = f.read_frames(f.nframes, dtype=np.float32)\n",
    "    \n",
    "plt.plot(sig);"
   ]
  },
  {
   "cell_type": "markdown",
   "metadata": {},
   "source": [
    "Nice format information:"
   ]
  },
  {
   "cell_type": "code",
   "execution_count": null,
   "metadata": {},
   "outputs": [],
   "source": [
    "Sndfile('data/test_wavex_float32.wav').format"
   ]
  },
  {
   "cell_type": "markdown",
   "metadata": {},
   "source": [
    "## Writing"
   ]
  },
  {
   "cell_type": "markdown",
   "metadata": {},
   "source": [
    "TODO"
   ]
  },
  {
   "cell_type": "markdown",
   "metadata": {},
   "source": [
    "## Version"
   ]
  },
  {
   "cell_type": "code",
   "execution_count": null,
   "metadata": {},
   "outputs": [],
   "source": [
    "from scikits import audiolab\n",
    "audiolab.__version__"
   ]
  },
  {
   "cell_type": "markdown",
   "metadata": {},
   "source": [
    "<p xmlns:dct=\"http://purl.org/dc/terms/\">\n",
    "  <a rel=\"license\"\n",
    "     href=\"http://creativecommons.org/publicdomain/zero/1.0/\">\n",
    "    <img src=\"http://i.creativecommons.org/p/zero/1.0/88x31.png\" style=\"border-style: none;\" alt=\"CC0\" />\n",
    "  </a>\n",
    "  <br />\n",
    "  To the extent possible under law,\n",
    "  <span rel=\"dct:publisher\" resource=\"[_:publisher]\">the person who associated CC0</span>\n",
    "  with this work has waived all copyright and related or neighboring\n",
    "  rights to this work.\n",
    "</p>"
   ]
  }
 ],
 "metadata": {
  "kernelspec": {
   "display_name": "Python 2",
   "language": "python",
   "name": "python2"
  },
  "language_info": {
   "codemirror_mode": {
    "name": "ipython",
    "version": 2
   },
   "file_extension": ".py",
   "mimetype": "text/x-python",
   "name": "python",
   "nbconvert_exporter": "python",
   "pygments_lexer": "ipython2",
   "version": "2.7.16+"
  }
 },
 "nbformat": 4,
 "nbformat_minor": 4
}
