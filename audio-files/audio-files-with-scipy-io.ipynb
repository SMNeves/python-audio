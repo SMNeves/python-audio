{
 "cells": [
  {
   "cell_type": "markdown",
   "metadata": {},
   "source": [
    "# Reading and Writing Audio Files with scipy.io\n",
    "\n",
    "[back to overview page](index.ipynb)\n",
    "\n",
    "The package `scipy.io` is part of [SciPy](http://www.scipy.org/), a library for scientific computing, which itself depends heavily on [NumPy](http://www.numpy.org/).\n",
    "\n",
    "Documentation: http://docs.scipy.org/doc/scipy/reference/io.html\n",
    "\n",
    "Audio data is stored in NumPy arrays, which is convenient.\n",
    "Audio channels are represented by the columns of the array.\n",
    "\n",
    "16-bit files are stored with data type `int16`, normalization to the range (-1, 1) must be done manually.\n",
    "\n",
    "Advantages:\n",
    "\n",
    "* already installed if you have SciPy\n",
    "* 32-bit float files supported (since version 0.13, see https://github.com/scipy/scipy/commit/ccbdff8)\n",
    "* can read some WAVEX files (but a warning message may be generated)\n",
    "* works with both Python 2 and 3\n",
    "\n",
    "Disadvantages:\n",
    "\n",
    "* 24-bit PCM not supported\n",
    "* 32-bit float WAVEX files don't work\n",
    "* conversion from PCM data to floating point and normalization must be done manually\n",
    "* always loads whole file, cannot read part of a file\n",
    "* needs NumPy and SciPy (which is normally not a problem)"
   ]
  },
  {
   "cell_type": "markdown",
   "metadata": {},
   "source": [
    "## Reading\n",
    "\n",
    "Reading a 16-bit WAV file into a floating-point array is simple, here's the summary (you'll need [utility.py](utility.py)):"
   ]
  },
  {
   "cell_type": "code",
   "execution_count": null,
   "metadata": {},
   "outputs": [],
   "source": [
    "from scipy.io import wavfile\n",
    "import utility\n",
    "\n",
    "fs, sig = wavfile.read('data/test_wav_pcm16.wav')\n",
    "normalized = utility.pcm2float(sig, 'float32')"
   ]
  },
  {
   "cell_type": "markdown",
   "metadata": {},
   "source": [
    "But let's do that step-by-step, shall we? First, let's switch to inline plotting and import matplotlib and NumPy:"
   ]
  },
  {
   "cell_type": "code",
   "execution_count": null,
   "metadata": {},
   "outputs": [],
   "source": [
    "import matplotlib.pyplot as plt\n",
    "import numpy as np"
   ]
  },
  {
   "cell_type": "markdown",
   "metadata": {},
   "source": [
    "All relevant functions are in the `wavfile` module from the `scipy.io` package. That's all we have to import for reading and writing WAV files:"
   ]
  },
  {
   "cell_type": "code",
   "execution_count": null,
   "metadata": {},
   "outputs": [],
   "source": [
    "from scipy.io import wavfile"
   ]
  },
  {
   "cell_type": "markdown",
   "metadata": {},
   "source": [
    "Now let's open a WAV file, get some information about it, show its actual sample values and plot it:"
   ]
  },
  {
   "cell_type": "code",
   "execution_count": null,
   "metadata": {},
   "outputs": [],
   "source": [
    "fs, sig = wavfile.read('data/test_wav_pcm16.wav')\n",
    "print(\"sampling rate = {} Hz, length = {} samples, channels = {}\".format(fs, *sig.shape))\n",
    "print(sig)\n",
    "plt.plot(sig);"
   ]
  },
  {
   "cell_type": "markdown",
   "metadata": {},
   "source": [
    "So far, so good.\n",
    "\n",
    "Before further processing, we normally want to convert the signals to floating point values and normalize them to a range from -1 to 1 by dividing all values by the largest possible value.\n",
    "\n",
    "To do that, I wrote a little helper function called `pcm2float()`, located in the file [utility.py](utility.py), let's load it:\n"
   ]
  },
  {
   "cell_type": "code",
   "execution_count": null,
   "metadata": {},
   "outputs": [],
   "source": [
    "import utility"
   ]
  },
  {
   "cell_type": "markdown",
   "metadata": {},
   "source": [
    "As always, you can get help with `utility.pcm2float?` and show its source code with `utility.pcm2float??`."
   ]
  },
  {
   "cell_type": "code",
   "execution_count": null,
   "metadata": {},
   "outputs": [],
   "source": [
    "print(\"old dtype: {}\".format(sig.dtype))\n",
    "normalized = utility.pcm2float(sig, 'float32')\n",
    "print(\"new dtype: {}\".format(normalized.dtype))\n",
    "np.set_printoptions(precision=6)\n",
    "print(normalized)\n",
    "plt.plot(normalized);"
   ]
  },
  {
   "cell_type": "markdown",
   "metadata": {},
   "source": [
    "That's it! Now we have a floating point signal with values ranging from -1 to 1 and we can start working with it.\n",
    "If you prefer double precision numbers instead of single precision, use `'float64'` instead of `'float32'`.\n",
    "\n",
    "Let's check if WAVEX works (there might be a warning):"
   ]
  },
  {
   "cell_type": "code",
   "execution_count": null,
   "metadata": {},
   "outputs": [],
   "source": [
    "fs, sig = wavfile.read('data/test_wavex_pcm16.wav')\n",
    "plt.plot(sig);"
   ]
  },
  {
   "cell_type": "markdown",
   "metadata": {},
   "source": [
    "24-bit files may raise a `TypeError` (\"data type not understood\") or a `ValueError` (\"total size of new array must be unchanged\") or another `ValueError` (\"string size must be a multiple of element size\") or probably something else.\n",
    "This depends on the version of SciPy (and maybe Python itself)."
   ]
  },
  {
   "cell_type": "code",
   "execution_count": null,
   "metadata": {},
   "outputs": [],
   "source": [
    "import traceback\n",
    "\n",
    "try:\n",
    "    fs, sig = wavfile.read('data/test_wav_pcm24.wav')\n",
    "except:\n",
    "    traceback.print_exc()\n",
    "else:\n",
    "    print(\"Surprisingly, wav_pcm24 seems to work!\")\n",
    "    plt.plot(sig)\n",
    "\n",
    "try:\n",
    "    fs, sig = wavfile.read('data/test_wavex_pcm24.wav')\n",
    "except:\n",
    "    traceback.print_exc()\n",
    "else:\n",
    "    print(\"Surprisingly, wavex_pcm24 seems to work!\")\n",
    "    plt.plot(sig)"
   ]
  },
  {
   "cell_type": "markdown",
   "metadata": {},
   "source": [
    "32-bit float files can be used since version 0.13 (see https://github.com/scipy/scipy/commit/ccbdff8),\n",
    "but there may be warnings."
   ]
  },
  {
   "cell_type": "code",
   "execution_count": null,
   "metadata": {},
   "outputs": [],
   "source": [
    "fs, sig = wavfile.read('data/test_wav_float32.wav')\n",
    "plt.plot(sig);"
   ]
  },
  {
   "cell_type": "markdown",
   "metadata": {},
   "source": [
    "32-bit float files in WAVEX format also work in recent versions of SciPy."
   ]
  },
  {
   "cell_type": "code",
   "execution_count": null,
   "metadata": {},
   "outputs": [],
   "source": [
    "fs, sig = wavfile.read('data/test_wavex_float32.wav')\n",
    "plt.plot(sig);"
   ]
  },
  {
   "cell_type": "markdown",
   "metadata": {},
   "source": [
    "## Writing\n",
    "\n",
    "That's easy, you just need a NumPy array with an appropriate data type where each column represents a channel of audio data:"
   ]
  },
  {
   "cell_type": "code",
   "execution_count": null,
   "metadata": {},
   "outputs": [],
   "source": [
    "data = np.array([[1.0,  -1.0],\n",
    "                 [0.75, -0.75],\n",
    "                 [0.5,  -0.5],\n",
    "                 [0.25, -0.25]], dtype='float32')\n",
    "\n",
    "wavfile.write('scipy_float32.wav', 44100, data)"
   ]
  },
  {
   "cell_type": "markdown",
   "metadata": {},
   "source": [
    "If you want to save 16-bit PCM files, you have to provide the NumPy array with data type `'int16'`. You can use my function `float2pcm()` from [utility.py](utility.py) to do the conversion:"
   ]
  },
  {
   "cell_type": "code",
   "execution_count": null,
   "metadata": {},
   "outputs": [],
   "source": [
    "import utility\n",
    "\n",
    "wavfile.write('scipy_pcm16.wav', 44100, utility.float2pcm(data, 'int16'))"
   ]
  },
  {
   "cell_type": "markdown",
   "metadata": {},
   "source": [
    "That's it! If you want a 32-bit PCM file (which is very uncommon!), you can use `'int32'` instead of `'int16'`."
   ]
  },
  {
   "cell_type": "markdown",
   "metadata": {},
   "source": [
    "## Epilogue\n",
    "\n",
    "Finally, let's see what versions we were using:"
   ]
  },
  {
   "cell_type": "code",
   "execution_count": null,
   "metadata": {},
   "outputs": [],
   "source": [
    "import numpy\n",
    "import scipy\n",
    "import IPython\n",
    "print(\"Versions: SciPy = {}; NumPy = {}; IPython = {}\".format(scipy.__version__, numpy.__version__, IPython.__version__))\n",
    "\n",
    "import sys\n",
    "print(\"Python interpreter:\")\n",
    "print(sys.version)"
   ]
  },
  {
   "cell_type": "markdown",
   "metadata": {},
   "source": [
    "<p xmlns:dct=\"http://purl.org/dc/terms/\">\n",
    "  <a rel=\"license\"\n",
    "     href=\"http://creativecommons.org/publicdomain/zero/1.0/\">\n",
    "    <img src=\"http://i.creativecommons.org/p/zero/1.0/88x31.png\" style=\"border-style: none;\" alt=\"CC0\" />\n",
    "  </a>\n",
    "  <br />\n",
    "  To the extent possible under law,\n",
    "  <span rel=\"dct:publisher\" resource=\"[_:publisher]\">the person who associated CC0</span>\n",
    "  with this work has waived all copyright and related or neighboring\n",
    "  rights to this work.\n",
    "</p>"
   ]
  }
 ],
 "metadata": {
  "kernelspec": {
   "display_name": "Python 3",
   "language": "python",
   "name": "python3"
  },
  "language_info": {
   "codemirror_mode": {
    "name": "ipython",
    "version": 3
   },
   "file_extension": ".py",
   "mimetype": "text/x-python",
   "name": "python",
   "nbconvert_exporter": "python",
   "pygments_lexer": "ipython3",
   "version": "3.7.4"
  }
 },
 "nbformat": 4,
 "nbformat_minor": 4
}
