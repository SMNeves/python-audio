{
 "cells": [
  {
   "cell_type": "markdown",
   "metadata": {},
   "source": [
    "# List Comprehensions, Generators, Generator Expressions\n",
    "\n",
    "[back to main page](../index.ipynb)\n",
    "\n",
    "These are some of the greatest features of Python, you should definitely know how to use them!"
   ]
  },
  {
   "cell_type": "markdown",
   "metadata": {},
   "source": [
    "## List Comprehensions\n",
    "\n",
    "Python's [list comprehesion](https://docs.python.org/3/tutorial/datastructures.html#list-comprehensions) feature allows us to concisely create new lists from existing sequences.\n",
    "\n",
    "This doesn't sound too spectacular, but wait until you see what you can do with them ...\n",
    "\n",
    "First of all, we need a sequence of example data that we will use as basis for the following list comprehension examples:"
   ]
  },
  {
   "cell_type": "code",
   "execution_count": null,
   "metadata": {},
   "outputs": [],
   "source": [
    "numbers = 4, 9, 7, 20, 6, 33, 13, 23, 16, 62, 8"
   ]
  },
  {
   "cell_type": "markdown",
   "metadata": {},
   "source": [
    "### Shallow Copy\n",
    "\n",
    "The simplest (and mostly useless) form of a list comprehension is just a dull repetition of all sequence elements into a new list:"
   ]
  },
  {
   "cell_type": "code",
   "execution_count": null,
   "metadata": {},
   "outputs": [],
   "source": [
    "[x for x in numbers]"
   ]
  },
  {
   "cell_type": "markdown",
   "metadata": {},
   "source": [
    "I'm showing this just for didactical purposes, in practice there is a simpler and less confusing way to get the exact same thing:"
   ]
  },
  {
   "cell_type": "code",
   "execution_count": null,
   "metadata": {},
   "outputs": [],
   "source": [
    "list(numbers)"
   ]
  },
  {
   "cell_type": "markdown",
   "metadata": {},
   "source": [
    "The [list()](https://docs.python.org/3/library/stdtypes.html#list) constructor takes any *iterable* and turns it into a list, so there is no need for a list comprehension here."
   ]
  },
  {
   "cell_type": "markdown",
   "metadata": {},
   "source": [
    "### Map\n",
    "\n",
    "Imagine you want to evaluate an expression (e.g. `2 * x`) for every item in a sequence and store all the results in a new list.\n",
    "\n",
    "It's as easy as that:"
   ]
  },
  {
   "cell_type": "code",
   "execution_count": null,
   "metadata": {},
   "outputs": [],
   "source": [
    "[2 * x for x in numbers]"
   ]
  },
  {
   "cell_type": "markdown",
   "metadata": {},
   "source": [
    "Alternatively, we could also use the built-in function [map()](https://docs.python.org/3/library/functions.html#map) to map a given function to each of the items in a sequence.\n",
    "\n",
    "But to be able to do that, we have to turn our expression into a proper function:"
   ]
  },
  {
   "cell_type": "code",
   "execution_count": null,
   "metadata": {},
   "outputs": [],
   "source": [
    "def two_times(x):\n",
    "    return 2 * x"
   ]
  },
  {
   "cell_type": "markdown",
   "metadata": {},
   "source": [
    "Now we can pass this function, together with the initial sequence, to `map()`:"
   ]
  },
  {
   "cell_type": "code",
   "execution_count": null,
   "metadata": {},
   "outputs": [],
   "source": [
    "map(two_times, numbers)"
   ]
  },
  {
   "cell_type": "markdown",
   "metadata": {},
   "source": [
    "What comes out of this is not a list, but a `map` object.\n",
    "This is a *lazy sequence*, i.e. an iterator (see [below](#Iterators) for an explanation) that yields its items *on demand*, not all at once.\n",
    "\n",
    "If you want to see them at once anyway, you can use the `list()` constructor again, which iterates over all results and puts them into a new list:"
   ]
  },
  {
   "cell_type": "code",
   "execution_count": null,
   "metadata": {},
   "outputs": [],
   "source": [
    "list(map(two_times, numbers))"
   ]
  },
  {
   "cell_type": "markdown",
   "metadata": {},
   "source": [
    "Defining a named function (and especially coming up with a meaningful name) can be cumbersome, especially if the function only returns a single expression.\n",
    "\n",
    "In this case you can use Python's [lambda](https://docs.python.org/3/reference/expressions.html#lambda) keyword to define an in-line anonymous function directly within the call to `map()`:"
   ]
  },
  {
   "cell_type": "code",
   "execution_count": null,
   "metadata": {},
   "outputs": [],
   "source": [
    "list(map(lambda x: 2 * x, numbers))"
   ]
  },
  {
   "cell_type": "markdown",
   "metadata": {},
   "source": [
    "This is nearly as concise, but the list comprehension above is easier to grasp, isn't it?"
   ]
  },
  {
   "cell_type": "markdown",
   "metadata": {},
   "source": [
    "### Filter\n",
    "\n",
    "Imagine you want to create a list with items from another sequence, but only those which satisfy a given condition.\n",
    "\n",
    "This can be done by throwing an `if` into the list comprehension:"
   ]
  },
  {
   "cell_type": "code",
   "execution_count": null,
   "metadata": {},
   "outputs": [],
   "source": [
    "[x for x in numbers if x > 10]"
   ]
  },
  {
   "cell_type": "markdown",
   "metadata": {},
   "source": [
    "It should be quite clear what the above line does.\n",
    "\n",
    "But as before, there is also an alternative way to get the same result, namely using the built-in [filter()](https://docs.python.org/3/library/functions.html#filter) function:"
   ]
  },
  {
   "cell_type": "code",
   "execution_count": null,
   "metadata": {},
   "outputs": [],
   "source": [
    "list(filter(lambda x: x > 10, numbers))"
   ]
  },
  {
   "cell_type": "markdown",
   "metadata": {},
   "source": [
    "Here we directly used a lambda function to express our condition.\n",
    "\n",
    "If the condition is more complicated, it can of course be encapsulated in a function, e.g.:"
   ]
  },
  {
   "cell_type": "code",
   "execution_count": null,
   "metadata": {},
   "outputs": [],
   "source": [
    "def my_condition(x):\n",
    "    \"\"\"A very strange condition.\"\"\"\n",
    "    if x % 2 == 0:\n",
    "        x //= 2\n",
    "    elif x % 3 == 0:\n",
    "        x += 4\n",
    "    return 3 < x < 10"
   ]
  },
  {
   "cell_type": "markdown",
   "metadata": {},
   "source": [
    "Such a conditional function (sometimes called *predicate*) can be used in a list comprehension ..."
   ]
  },
  {
   "cell_type": "code",
   "execution_count": null,
   "metadata": {},
   "outputs": [],
   "source": [
    "[x for x in numbers if my_condition(x)]"
   ]
  },
  {
   "cell_type": "markdown",
   "metadata": {},
   "source": [
    "... and with `filter()`:"
   ]
  },
  {
   "cell_type": "code",
   "execution_count": null,
   "metadata": {},
   "outputs": [],
   "source": [
    "list(filter(my_condition, numbers))"
   ]
  },
  {
   "cell_type": "markdown",
   "metadata": {},
   "source": [
    "In this case it is largely a matter of taste which of the two alternatives you should use."
   ]
  },
  {
   "cell_type": "markdown",
   "metadata": {},
   "source": [
    "### Map + Filter\n",
    "\n",
    "As you can imagine, it's possible to combine the mapping of an expression to a list and the filtering of this list:"
   ]
  },
  {
   "cell_type": "code",
   "execution_count": null,
   "metadata": {},
   "outputs": [],
   "source": [
    "[2 * x for x in numbers if x > 10]"
   ]
  },
  {
   "cell_type": "markdown",
   "metadata": {},
   "source": [
    "This can of course also be done with a combination of `map()` and `filter()`, but list comprehensions are often easier to read."
   ]
  },
  {
   "cell_type": "code",
   "execution_count": null,
   "metadata": {},
   "outputs": [],
   "source": [
    "list(map(lambda x: 2 * x, filter(lambda x: x > 10, numbers)))"
   ]
  },
  {
   "cell_type": "markdown",
   "metadata": {},
   "source": [
    "### Map With `if`/`else`-Expression\n",
    "\n",
    "The first part of a list comprehension can be an arbitrary *expression*, but *statements* are not allowed.\n",
    "That's one of the situations where an `if`/`else`-expression (a.k.a. [conditional expression](https://docs.python.org/3/reference/expressions.html#conditional-expressions)) can come in handy:"
   ]
  },
  {
   "cell_type": "code",
   "execution_count": null,
   "metadata": {},
   "outputs": [],
   "source": [
    "[x * 100 if x < 5 else x * 10 for x in numbers]"
   ]
  },
  {
   "cell_type": "markdown",
   "metadata": {},
   "source": [
    "### Nested Sequences\n",
    "\n",
    "A sequence can itself contain sequences, e.g. a sequence of numbers consists of sequences of digits:"
   ]
  },
  {
   "cell_type": "code",
   "execution_count": null,
   "metadata": {},
   "outputs": [],
   "source": [
    "[str(x) for x in numbers]"
   ]
  },
  {
   "cell_type": "markdown",
   "metadata": {},
   "source": [
    "If the initial sequence is such a nested sequence, the list comprehension can operate on the flattened sequence by using multiple `for`-parts:"
   ]
  },
  {
   "cell_type": "code",
   "execution_count": null,
   "metadata": {},
   "outputs": [],
   "source": [
    "[int(c) for x in numbers for c in str(x)]"
   ]
  },
  {
   "cell_type": "markdown",
   "metadata": {},
   "source": [
    "Note that the first `for`-part concerns the outer list and the second one the inner lists, just as in two nested `for` loops:"
   ]
  },
  {
   "cell_type": "code",
   "execution_count": null,
   "metadata": {},
   "outputs": [],
   "source": [
    "mylist = []\n",
    "for x in numbers:\n",
    "    for c in str(x):\n",
    "        mylist.append(int(c))\n",
    "\n",
    "mylist"
   ]
  },
  {
   "cell_type": "markdown",
   "metadata": {},
   "source": [
    "However, if you want the output list also to be nested, you can use a separate (inner) list comprehension as the first part of another (outer) list comprehension:"
   ]
  },
  {
   "cell_type": "code",
   "execution_count": null,
   "metadata": {},
   "outputs": [],
   "source": [
    "[[int(c) for c in str(x)] for x in numbers]"
   ]
  },
  {
   "cell_type": "markdown",
   "metadata": {},
   "source": [
    "### Filtering Nested Sequences\n",
    "\n",
    "Of course, you can also add an `if`-part to a nested list comprehension:"
   ]
  },
  {
   "cell_type": "code",
   "execution_count": null,
   "metadata": {},
   "outputs": [],
   "source": [
    "[int(c) for x in numbers if x > 10 for c in str(x)]"
   ]
  },
  {
   "cell_type": "markdown",
   "metadata": {},
   "source": [
    "Apparently, the position of the `if`-part doesn't matter, it can be either between the `for`-parts or after them."
   ]
  },
  {
   "cell_type": "code",
   "execution_count": null,
   "metadata": {},
   "outputs": [],
   "source": [
    "[int(c) for x in numbers for c in str(x) if x > 10]"
   ]
  },
  {
   "cell_type": "markdown",
   "metadata": {},
   "source": [
    "And you can have more than one `if`-parts. You can have one for each `for`-part."
   ]
  },
  {
   "cell_type": "code",
   "execution_count": null,
   "metadata": {},
   "outputs": [],
   "source": [
    "[int(c) for x in numbers if x > 10 for c in str(x) if c not in ('3', '6')]"
   ]
  },
  {
   "cell_type": "markdown",
   "metadata": {},
   "source": [
    "### Replacing `for`-Loops With List Comprehensions\n",
    "\n",
    "People who come to Python from other languages tend to create empty lists and then `append()` to them within a `for`-loop like this:"
   ]
  },
  {
   "cell_type": "code",
   "execution_count": null,
   "metadata": {},
   "outputs": [],
   "source": [
    "newlist = []\n",
    "for n in numbers:\n",
    "    if n % 2 != 0:\n",
    "        newlist.append(n**2)"
   ]
  },
  {
   "cell_type": "markdown",
   "metadata": {},
   "source": [
    "It's of course *possible* to do this, but for reasonably short expressions it is much *nicer* to replace this with a list comprehension:"
   ]
  },
  {
   "cell_type": "code",
   "execution_count": null,
   "metadata": {},
   "outputs": [],
   "source": [
    "newlist = [n**2 for n in numbers if n % 2 != 0]"
   ]
  },
  {
   "cell_type": "markdown",
   "metadata": {},
   "source": [
    "This is the way how it's done in Python!"
   ]
  },
  {
   "cell_type": "markdown",
   "metadata": {},
   "source": [
    "## Set Comprehensions, Dictionary Comprehensions\n",
    "\n",
    "For completeness' sake, let me mention `set` and `dict` comprehensions here.\n",
    "\n",
    "Set comprehensions look very much like `list` comprehensions, except that they are enclosed in a pair of braces instead of brackets.\n",
    "\n",
    "And of course they create a `set`, i.e. there are no duplicates and you shouldn't rely on the order of items."
   ]
  },
  {
   "cell_type": "code",
   "execution_count": null,
   "metadata": {},
   "outputs": [],
   "source": [
    "{int(c) for x in numbers for c in str(x)}"
   ]
  },
  {
   "cell_type": "markdown",
   "metadata": {},
   "source": [
    "All the rest works the same as in list comprehensions.\n",
    "\n",
    "There is another type of comprehensions that is enclosed in braces: dictionary comprehensions.\n",
    "The difference is that `dict` comprehensions use a pair of values with a colon inbetween.\n",
    "The expression in front of the colon is evaluated and specifies a *key*, while the expression after the colon provides the corresponding *value*.\n",
    "\n",
    "Let's look at this very silly example for a dict comprehension (which also includes a list comprehension just for the sake of it):"
   ]
  },
  {
   "cell_type": "code",
   "execution_count": null,
   "metadata": {},
   "outputs": [],
   "source": [
    "{str(x): [int(c) for c in str(x)] for x in numbers}"
   ]
  },
  {
   "cell_type": "markdown",
   "metadata": {},
   "source": [
    "Set comprehensions and dictionary comprehensions are by far not as common as list comprehensions, but it's still good to know them.\n",
    "\n",
    "But now for something completely different ..."
   ]
  },
  {
   "cell_type": "markdown",
   "metadata": {},
   "source": [
    "## Iterators\n",
    "\n",
    "*Iterators* are a completely different topic, but they are necessary to understand [generators](#Generators) which, combined with features from list comprehensions will finally lead us to [generator expressions](#Generator-Expressions) (which are awesome).\n",
    "\n",
    "There are many *iterable* built-in objects in Python, e.g. lists, tuples, strings, files. There are many more *iterable* objects in the standard library and in third-party libraries.\n",
    "The concept of iterable objects (often just called *iterables*) is very important in Python.\n",
    "\n",
    "If you want to *iterate* over an *iterable* you can get an *iterator* by calling the built-in [iter()](https://docs.python.org/3/library/functions.html#iter) function."
   ]
  },
  {
   "cell_type": "code",
   "execution_count": null,
   "metadata": {},
   "outputs": [],
   "source": [
    "it = iter(numbers)"
   ]
  },
  {
   "cell_type": "markdown",
   "metadata": {},
   "source": [
    "Iterators are very simple (but powerful!). The only thing you can do to them, is call the built-in function [next()](https://docs.python.org/3/library/functions.html#next) on them:"
   ]
  },
  {
   "cell_type": "code",
   "execution_count": null,
   "metadata": {},
   "outputs": [],
   "source": [
    "next(it)"
   ]
  },
  {
   "cell_type": "markdown",
   "metadata": {},
   "source": [
    "... and again ..."
   ]
  },
  {
   "cell_type": "code",
   "execution_count": null,
   "metadata": {},
   "outputs": [],
   "source": [
    "next(it)"
   ]
  },
  {
   "cell_type": "markdown",
   "metadata": {},
   "source": [
    "... and again ..."
   ]
  },
  {
   "cell_type": "code",
   "execution_count": null,
   "metadata": {},
   "outputs": [],
   "source": [
    "next(it)"
   ]
  },
  {
   "cell_type": "markdown",
   "metadata": {},
   "source": [
    "... and again ..."
   ]
  },
  {
   "cell_type": "code",
   "execution_count": null,
   "metadata": {},
   "outputs": [],
   "source": [
    "next(it)"
   ]
  },
  {
   "cell_type": "markdown",
   "metadata": {},
   "source": [
    "An iterator object is itself iterable, therefore we can use the `list()` constructor to turn the remaining elements into a list:"
   ]
  },
  {
   "cell_type": "code",
   "execution_count": null,
   "metadata": {},
   "outputs": [],
   "source": [
    "list(it)"
   ]
  },
  {
   "cell_type": "markdown",
   "metadata": {},
   "source": [
    "This basically calls `next(it)` repeatedly and collects the results into a list.\n",
    "\n",
    "But what happens if the iterator is exhausted?\n",
    "How does the list constructor know that there are no more items left to iterate over?\n",
    "\n",
    "That's easy: if `next()` is called on an exhausted iterator, an exception of the type [StopIteration](https://docs.python.org/3/library/exceptions.html#StopIteration) is raised.\n",
    "\n",
    "A very common use of an iterator is in a `for` loop.\n",
    "In this case the interpreter internally calls `iter()` and then calls `next()` on the resulting iterator assigning the result to the loop variable.\n",
    "After the loop body, `next()` is called again and the process is repeated until a `StopIteration` is raised.\n",
    "\n",
    "When we just use a `for`-loop, we don't have to worry about `iter()` and `next()`, but that's what's going on under the hood."
   ]
  },
  {
   "cell_type": "code",
   "execution_count": null,
   "metadata": {},
   "outputs": [],
   "source": [
    "for n in numbers:\n",
    "    print(n * '.')"
   ]
  },
  {
   "cell_type": "markdown",
   "metadata": {},
   "source": [
    "As I mentioned above, an *iterator* is itself *iterable*, i.e. we can again call `iter()` on it.\n",
    "But don't worry about calling `iter()` too often.\n",
    "If it is called on something that's already and iterator, it will just return the thing unchanged:"
   ]
  },
  {
   "cell_type": "code",
   "execution_count": null,
   "metadata": {},
   "outputs": [],
   "source": [
    "it = iter(numbers)\n",
    "it is iter(it) is iter(iter(it)) is iter(iter(iter(it)))"
   ]
  },
  {
   "cell_type": "markdown",
   "metadata": {},
   "source": [
    "## Generators\n",
    "\n",
    "Iterating over an existing sequence is very simple and useful, but there are two cases where this may not be feasible anymore:\n",
    "\n",
    "* If creating a single list element takes a non-negligible amount of time you might not want to create a whole list of them before you start working with the list elements.\n",
    "Wouldn't it be nice to create a sequence one item at a time? Then we could start processing the first element immediately and don't have to wait for the whole list to be created.\n",
    "\n",
    "* If we are dealing with a very long sequence, building a list of it will need a lot of memory at once.\n",
    "If we only need to process one item element at a time, wouldn't it be nice to avoid wasting all that memory and just process the sequence elements one by one?\n",
    "\n",
    "That's where *generators* come in.\n",
    "*Generator objects* are *iterable*, but they don't necessarily store all items.\n",
    "They only produce one item at a time.\n",
    "\n",
    "*Generator objects* are created by calling *generator functions*.\n",
    "A *generator function* looks very much like a normal function, but instead of a `return` statement (or several) it has one or more `yield` statements.\n",
    "\n",
    "This is a really silly example of a *generator function* which yields our numbers from above one by one:"
   ]
  },
  {
   "cell_type": "code",
   "execution_count": null,
   "metadata": {},
   "outputs": [],
   "source": [
    "def my_generator():\n",
    "    yield 4\n",
    "    yield 9\n",
    "    yield 7\n",
    "    yield 20\n",
    "    yield 6\n",
    "    yield 33\n",
    "    yield 13\n",
    "    yield 23\n",
    "    yield 16\n",
    "    yield 62\n",
    "    yield 8"
   ]
  },
  {
   "cell_type": "markdown",
   "metadata": {},
   "source": [
    "When we call this *generator function* we get a *generator object*:"
   ]
  },
  {
   "cell_type": "code",
   "execution_count": null,
   "metadata": {},
   "outputs": [],
   "source": [
    "my_generator()"
   ]
  },
  {
   "cell_type": "markdown",
   "metadata": {},
   "source": [
    "Let's assign it to a variable:"
   ]
  },
  {
   "cell_type": "code",
   "execution_count": null,
   "metadata": {},
   "outputs": [],
   "source": [
    "g = my_generator()"
   ]
  },
  {
   "cell_type": "markdown",
   "metadata": {},
   "source": [
    "Note that when running a *generator function*, the code *inside* is not (yet) executed.\n",
    "\n",
    "Every *generator object* is an *iterator*, so we can call `next()` on it:"
   ]
  },
  {
   "cell_type": "code",
   "execution_count": null,
   "metadata": {},
   "outputs": [],
   "source": [
    "next(g)"
   ]
  },
  {
   "cell_type": "markdown",
   "metadata": {},
   "source": [
    "When we call `next()`, the body of the *generator function* is executed until the first `yield` expression is encountered.\n",
    "The value on the right side of the `yield` keyword is produced and the execution is stopped.\n",
    "\n",
    "When we call `next()` again, the execution of the function continues at the statement where it was stopped before and the following statements are executed until the next `yield` expression is encountered.\n",
    "At this point the corresponding value is produced and the execution is \"frozen\" again."
   ]
  },
  {
   "cell_type": "code",
   "execution_count": null,
   "metadata": {},
   "outputs": [],
   "source": [
    "next(g)"
   ]
  },
  {
   "cell_type": "markdown",
   "metadata": {},
   "source": [
    "Viewed from the outside, this just looks like any old iterable.\n",
    "Let's turn whatever is left in the *generator object* into a list:"
   ]
  },
  {
   "cell_type": "code",
   "execution_count": null,
   "metadata": {},
   "outputs": [],
   "source": [
    "list(g)"
   ]
  },
  {
   "cell_type": "markdown",
   "metadata": {},
   "source": [
    "After that the generator is exhausted (a `StopIteration` exception was raised within the `list()` constructor), we cannot really do anything else with it.\n",
    "\n",
    "Calling `next()` again would just raise another `StopIteration` exception.\n",
    "\n",
    "But of course we can call the *generator function* again to get a completely new *generator object* which can again be iterated over exactly once:"
   ]
  },
  {
   "cell_type": "code",
   "execution_count": null,
   "metadata": {},
   "outputs": [],
   "source": [
    "list(my_generator())"
   ]
  },
  {
   "cell_type": "markdown",
   "metadata": {},
   "source": [
    "This example is really silly, the same thing could also be done with just a `list` of numbers.\n",
    "But imagine producing one of these number would take a long time.\n",
    "Then it would be perfectly reasonable to compute and yield them one by one in a generator function.\n",
    "\n",
    "And there is another use case where a `list` just wouldn't work: generators can be infinite!\n",
    "\n",
    "To show this, we can create a generator function with an infinite loop that yields a value at each iteration:"
   ]
  },
  {
   "cell_type": "code",
   "execution_count": null,
   "metadata": {},
   "outputs": [],
   "source": [
    "def integers_starting_from(n):\n",
    "    while True:\n",
    "        yield n\n",
    "        n += 1"
   ]
  },
  {
   "cell_type": "markdown",
   "metadata": {},
   "source": [
    "When we call this function we get a generator ..."
   ]
  },
  {
   "cell_type": "code",
   "execution_count": null,
   "metadata": {},
   "outputs": [],
   "source": [
    "i = integers_starting_from(42)"
   ]
  },
  {
   "cell_type": "markdown",
   "metadata": {},
   "source": [
    "... on which we can call `next()` ..."
   ]
  },
  {
   "cell_type": "code",
   "execution_count": null,
   "metadata": {},
   "outputs": [],
   "source": [
    "next(i)"
   ]
  },
  {
   "cell_type": "markdown",
   "metadata": {},
   "source": [
    "... and again ..."
   ]
  },
  {
   "cell_type": "code",
   "execution_count": null,
   "metadata": {},
   "outputs": [],
   "source": [
    "next(i)"
   ]
  },
  {
   "cell_type": "markdown",
   "metadata": {},
   "source": [
    "... and again ..."
   ]
  },
  {
   "cell_type": "code",
   "execution_count": null,
   "metadata": {},
   "outputs": [],
   "source": [
    "next(i)"
   ]
  },
  {
   "cell_type": "markdown",
   "metadata": {},
   "source": [
    "... and we can do this arbitrarily often, until we get bored.\n",
    "\n",
    "> Side note: Since Python can handle arbitrarily large integers, we can *really* do this arbitrarily often and we will each time get an even larger number, the numbers will never overflow (unless there is a bug in the Python interpreter).\n",
    "\n",
    "This time we cannot create a `list` of the remaining items, because this list would grow infinitely large!\n",
    "\n",
    "To avoid an infinitely large list, we can create another generator function that takes a generator, yields a finite number of items and then stops:"
   ]
  },
  {
   "cell_type": "code",
   "execution_count": null,
   "metadata": {},
   "outputs": [],
   "source": [
    "def take15(it):\n",
    "    for _ in range(15):\n",
    "        yield next(it)"
   ]
  },
  {
   "cell_type": "code",
   "execution_count": null,
   "metadata": {},
   "outputs": [],
   "source": [
    "many_integers = integers_starting_from(42)"
   ]
  },
  {
   "cell_type": "code",
   "execution_count": null,
   "metadata": {},
   "outputs": [],
   "source": [
    "list(take15(many_integers))"
   ]
  },
  {
   "cell_type": "code",
   "execution_count": null,
   "metadata": {},
   "outputs": [],
   "source": [
    "list(take15(many_integers))"
   ]
  },
  {
   "cell_type": "markdown",
   "metadata": {},
   "source": [
    "But is wasn't even necessary to write our own generator function for this, the Python standard library already has such a thing: [itertools.islice()](https://docs.python.org/3/library/itertools.html#itertools.islice).\n",
    "It's only an import away ..."
   ]
  },
  {
   "cell_type": "code",
   "execution_count": null,
   "metadata": {},
   "outputs": [],
   "source": [
    "import itertools"
   ]
  },
  {
   "cell_type": "markdown",
   "metadata": {},
   "source": [
    "With the help of this, let's create a helper function that returns a list with the first 15 elements of a (possibly infinite) generator."
   ]
  },
  {
   "cell_type": "code",
   "execution_count": null,
   "metadata": {},
   "outputs": [],
   "source": [
    "def list15(it):\n",
    "    return list(itertools.islice(it, 15))"
   ]
  },
  {
   "cell_type": "code",
   "execution_count": null,
   "metadata": {},
   "outputs": [],
   "source": [
    "list15(integers_starting_from(42))"
   ]
  },
  {
   "cell_type": "markdown",
   "metadata": {},
   "source": [
    "We will use this below to quickly check the first few values of an infinite generator.\n",
    "\n",
    "By the way, our `integers_starting_from()` generator function is also already available in the `itertools` library under the name [itertools.count()](https://docs.python.org/3/library/itertools.html#itertools.count)."
   ]
  },
  {
   "cell_type": "code",
   "execution_count": null,
   "metadata": {},
   "outputs": [],
   "source": [
    "itertools.count(42)"
   ]
  },
  {
   "cell_type": "markdown",
   "metadata": {},
   "source": [
    "This returns a special `count` object, which is iterable and yields increasing values forever, just like the generator returned by `integers_starting_from()`."
   ]
  },
  {
   "cell_type": "code",
   "execution_count": null,
   "metadata": {},
   "outputs": [],
   "source": [
    "list15(itertools.count(42))"
   ]
  },
  {
   "cell_type": "markdown",
   "metadata": {},
   "source": [
    "### Map and Filter for Generators\n",
    "\n",
    "Similar to what we saw above, we can also *filter* elements from a generator and we can also *map* a function/expression on the sequence yielded by a generator.\n",
    "\n",
    "One way to do this, is to create a new generator function:"
   ]
  },
  {
   "cell_type": "code",
   "execution_count": null,
   "metadata": {},
   "outputs": [],
   "source": [
    "def square_evens(it):\n",
    "    for x in it:\n",
    "        if x % 2 == 0:\n",
    "            yield x**2"
   ]
  },
  {
   "cell_type": "code",
   "execution_count": null,
   "metadata": {},
   "outputs": [],
   "source": [
    "list15(square_evens(itertools.count(1)))"
   ]
  },
  {
   "cell_type": "markdown",
   "metadata": {},
   "source": [
    "It is of course also possible to do this with the functions `map()` and `filter()`:"
   ]
  },
  {
   "cell_type": "code",
   "execution_count": null,
   "metadata": {},
   "outputs": [],
   "source": [
    "list15(map(lambda x: x**2, filter(lambda x: x % 2 == 0, itertools.count(1))))"
   ]
  },
  {
   "cell_type": "markdown",
   "metadata": {},
   "source": [
    "This doesn't really look nice, wouldn't it be great if we could use a similar syntax as with list comprehensions?\n",
    "\n",
    "Which leads us to the climax of this page ..."
   ]
  },
  {
   "cell_type": "markdown",
   "metadata": {},
   "source": [
    "## Generator Expressions\n",
    "\n",
    "Generator expressions look very similar to list comprehensions, but instead of a finite-size `list`, they return a generator object.\n",
    "\n",
    "In fact, they look exactly like list comprehensions, just without the brackets surrounding the expression.\n",
    "In some cases, we have to surround generator expressions with parentheses, because otherwise the code would be ambiguous:"
   ]
  },
  {
   "cell_type": "code",
   "execution_count": null,
   "metadata": {},
   "outputs": [],
   "source": [
    "squares_of_evens = (x**2 for x in itertools.count(1) if x % 2 == 0)"
   ]
  },
  {
   "cell_type": "markdown",
   "metadata": {},
   "source": [
    "The whole generator expression evalutes to a *generator object*:"
   ]
  },
  {
   "cell_type": "code",
   "execution_count": null,
   "metadata": {},
   "outputs": [],
   "source": [
    "squares_of_evens"
   ]
  },
  {
   "cell_type": "markdown",
   "metadata": {},
   "source": [
    "In this case the generator object is infinite, so let's only look at the first few items:"
   ]
  },
  {
   "cell_type": "code",
   "execution_count": null,
   "metadata": {},
   "outputs": [],
   "source": [
    "list15(squares_of_evens)"
   ]
  },
  {
   "cell_type": "markdown",
   "metadata": {},
   "source": [
    "If we only need the generator expression once, we can drop the assignment and use it directly (in any place where an *iterator* is expected)."
   ]
  },
  {
   "cell_type": "code",
   "execution_count": null,
   "metadata": {},
   "outputs": [],
   "source": [
    "list15(x**2 for x in itertools.count(1) if x % 2 == 0)"
   ]
  },
  {
   "cell_type": "markdown",
   "metadata": {},
   "source": [
    "Note: Here we didn't need an additional pair of parentheses!\n",
    "\n",
    "Conceptually, a list comprehension is just a generator expression that's immediately turned into a `list`:"
   ]
  },
  {
   "cell_type": "code",
   "execution_count": null,
   "metadata": {},
   "outputs": [],
   "source": [
    "list(x for x in numbers if x > 10)  # a generator expression as argument to list()"
   ]
  },
  {
   "cell_type": "code",
   "execution_count": null,
   "metadata": {},
   "outputs": [],
   "source": [
    "[x for x in numbers if x > 10]  # a list comprehension"
   ]
  },
  {
   "cell_type": "markdown",
   "metadata": {},
   "source": [
    "## Reduce\n",
    "\n",
    "TODO: sum, any, all, min, max\n",
    "\n",
    "TODO: mention [functools.reduce()](https://docs.python.org/3/library/functools.html#functools.reduce)?"
   ]
  },
  {
   "cell_type": "markdown",
   "metadata": {},
   "source": [
    "## Example: The Sieve Of Eratosthenes\n",
    "\n",
    "This example is taken from the very famous book \"Structure and Interpretation of Computer Programs\" (SICP).\n",
    "The example can be found in [chapter 3.5](https://mitpress.mit.edu/sicp/full-text/book/book-Z-H-24.html) and in the [Video Lecture 6B on YouTube](https://youtu.be/DCub3iqteuI).\n",
    "\n",
    "Let's look at this video where Hal Abelson explains the [Sieve Of Eratosthenes](https://en.wikipedia.org/wiki/Sieve_of_Eratosthenes):"
   ]
  },
  {
   "cell_type": "code",
   "execution_count": null,
   "metadata": {},
   "outputs": [],
   "source": [
    "from IPython.display import YouTubeVideo\n",
    "YouTubeVideo(\"DCub3iqteuI\", start=495)"
   ]
  },
  {
   "cell_type": "markdown",
   "metadata": {},
   "source": [
    "To implement the *sieve*, we can use a recursive generator function:"
   ]
  },
  {
   "cell_type": "code",
   "execution_count": null,
   "metadata": {},
   "outputs": [],
   "source": [
    "def sieve(stream):\n",
    "    x = next(stream)\n",
    "    yield x\n",
    "    yield from sieve(y for y in stream if y % x != 0)"
   ]
  },
  {
   "cell_type": "markdown",
   "metadata": {},
   "source": [
    "In SICP, they are using what they call \"streams\" (implemented in LISP) to represent the infinite sequences of natural numbers and of prime numbers, respectively.\n",
    "\n",
    "We can get a similar thing in Python by using generators.\n",
    "The generator function `sieve()` takes the first element from a \"stream\" and yields it.\n",
    "Afterwards, it calls itself recursively using a generator expression that filters the remaining sequence.\n",
    "\n",
    "The filtering could of course also done with filter(), see [above](#Filter), but the generator expression is more Pythonic.\n",
    "\n",
    "To get our infinite sequence of prime numbers, we have to apply the `sieve()` to the natural numbers starting with 2."
   ]
  },
  {
   "cell_type": "code",
   "execution_count": null,
   "metadata": {},
   "outputs": [],
   "source": [
    "def primes():\n",
    "    return sieve(itertools.count(2))"
   ]
  },
  {
   "cell_type": "markdown",
   "metadata": {},
   "source": [
    "Calling this function returns an infinite generator object that yields all primes on demand."
   ]
  },
  {
   "cell_type": "code",
   "execution_count": null,
   "metadata": {},
   "outputs": [],
   "source": [
    "list15(primes())"
   ]
  },
  {
   "cell_type": "markdown",
   "metadata": {},
   "source": [
    "Those seem to be the right numbers, but this recursive Python implementation has a problem when we look for larger prime numbers.\n",
    "\n",
    "To see that, let's create a helper function that shows only one given item from the sequence instead of the first few:"
   ]
  },
  {
   "cell_type": "code",
   "execution_count": null,
   "metadata": {},
   "outputs": [],
   "source": [
    "def nth(n, it):\n",
    "    \"\"\"Return n-th element (0-based) from iterable it.\"\"\"\n",
    "    return next(itertools.islice(it, n, None))"
   ]
  },
  {
   "cell_type": "code",
   "execution_count": null,
   "metadata": {},
   "outputs": [],
   "source": [
    "nth(0, primes())"
   ]
  },
  {
   "cell_type": "code",
   "execution_count": null,
   "metadata": {},
   "outputs": [],
   "source": [
    "nth(9, primes())"
   ]
  },
  {
   "cell_type": "markdown",
   "metadata": {},
   "source": [
    "While we're at it, let's measure how long the computation takes for a somewhat larger number ..."
   ]
  },
  {
   "cell_type": "code",
   "execution_count": null,
   "metadata": {},
   "outputs": [],
   "source": [
    "%time nth(482, primes())"
   ]
  },
  {
   "cell_type": "markdown",
   "metadata": {},
   "source": [
    "This works fine with small numbers, but there is a limit (depending on your Python interpreter settings), you can try it on your own:"
   ]
  },
  {
   "cell_type": "code",
   "execution_count": null,
   "metadata": {},
   "outputs": [],
   "source": [
    "#nth(490, primes())  # maximum recursion depth exceeded!"
   ]
  },
  {
   "cell_type": "markdown",
   "metadata": {},
   "source": [
    "The problem is that (C)Python doesn't eliminate tail recursion.\n",
    "In other languages (e.g. LISP) this would work fine, but not in Python.\n",
    "It's possible to increase the recursion depth in the Python interpreter, but this would just shift the problem to slightly larger numbers.\n",
    "\n",
    "But anyway, why would we solve an iterative problem with a recursive solution?\n",
    "\n",
    "We can easily create an iterative implementation by applying a few minor changes:"
   ]
  },
  {
   "cell_type": "code",
   "execution_count": null,
   "metadata": {},
   "outputs": [],
   "source": [
    "def primes2():\n",
    "    collected_primes = []\n",
    "    for x in itertools.count(2):\n",
    "        if all(x % p != 0 for p in collected_primes):\n",
    "            yield x\n",
    "            collected_primes.append(x)"
   ]
  },
  {
   "cell_type": "markdown",
   "metadata": {},
   "source": [
    "Now, instead of storing the intermediate state on the stack (where it's hidden in the recursive implementation), we just explicitly create a list of all so far known primes and append each newly found prime number to this list.\n",
    "\n",
    "> Important Note: The function all() is short-circuiting, i.e. the divisibility test is only executed until the first match.\n",
    "It's important to use a generator expression here, because if we would use a list comprehension instead, the predicate would be calculated for all items and the whole intermediate list would have to be created on each iteration. This would be much slower and use more memory.\n",
    "\n",
    "Let's compare this with our previous implementation:"
   ]
  },
  {
   "cell_type": "code",
   "execution_count": null,
   "metadata": {},
   "outputs": [],
   "source": [
    "%time nth(482, primes2())"
   ]
  },
  {
   "cell_type": "markdown",
   "metadata": {},
   "source": [
    "The new iterative implementation of course yields the same result as before, but it is also faster!\n",
    "\n",
    "And now we don't have this silly recursion limit, it also works with much larger numbers:"
   ]
  },
  {
   "cell_type": "code",
   "execution_count": null,
   "metadata": {},
   "outputs": [],
   "source": [
    "%time nth(5000, primes2())"
   ]
  },
  {
   "cell_type": "markdown",
   "metadata": {},
   "source": [
    "Some time after writing the above implementation, I stumbled upon a blog post called [List, Dict and Set Comprehensions By Example](https://www.smallsurething.com/list-dict-and-set-comprehensions-by-example/), which also uses the Sieve of Eratosthenes as an example.\n",
    "However, it doesn't use generators but set comprehensions (which I only mentioned very shortly [above](#Set-Comprehensions,-Dictionary-Comprehensions)).\n",
    "It also has a different API, since it doesn't produce the results one by one, but instead calculates all prime numbers up to a given upper limit.\n",
    "\n",
    "The original code has a second set comprehension in the last line.\n",
    "I took the liberty of changing that into a list comprehension, since there are no duplicates anymore at this point and the order is actually relevant."
   ]
  },
  {
   "cell_type": "code",
   "execution_count": null,
   "metadata": {},
   "outputs": [],
   "source": [
    "def eratosthenes(n):\n",
    "    # Based on: https://www.smallsurething.com/list-dict-and-set-comprehensions-by-example/\n",
    "    not_prime = {j for i in range(2, n) for j in range(i * 2, n, i)}\n",
    "    return [i for i in range(2, n) if i not in not_prime]"
   ]
  },
  {
   "cell_type": "markdown",
   "metadata": {},
   "source": [
    "As it turns out, this not only works but it is also significantly faster!"
   ]
  },
  {
   "cell_type": "code",
   "execution_count": null,
   "metadata": {},
   "outputs": [],
   "source": [
    "%time result = eratosthenes(48622)\n",
    "len(result), result[-1]"
   ]
  },
  {
   "cell_type": "markdown",
   "metadata": {},
   "source": [
    "That's it, have fun generating prime numbers!"
   ]
  },
  {
   "cell_type": "markdown",
   "metadata": {},
   "source": [
    "<p xmlns:dct=\"http://purl.org/dc/terms/\">\n",
    "  <a rel=\"license\"\n",
    "     href=\"http://creativecommons.org/publicdomain/zero/1.0/\">\n",
    "    <img src=\"http://i.creativecommons.org/p/zero/1.0/88x31.png\" style=\"border-style: none;\" alt=\"CC0\" />\n",
    "  </a>\n",
    "  <br />\n",
    "  To the extent possible under law,\n",
    "  <span rel=\"dct:publisher\" resource=\"[_:publisher]\">the person who associated CC0</span>\n",
    "  with this work has waived all copyright and related or neighboring\n",
    "  rights to this work.\n",
    "</p>"
   ]
  }
 ],
 "metadata": {
  "kernelspec": {
   "display_name": "Python 3",
   "language": "python",
   "name": "python3"
  },
  "language_info": {
   "codemirror_mode": {
    "name": "ipython",
    "version": 3
   },
   "file_extension": ".py",
   "mimetype": "text/x-python",
   "name": "python",
   "nbconvert_exporter": "python",
   "pygments_lexer": "ipython3",
   "version": "3.7.4"
  }
 },
 "nbformat": 4,
 "nbformat_minor": 4
}
